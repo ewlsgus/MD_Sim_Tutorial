{
  "cells": [
    {
      "cell_type": "markdown",
      "metadata": {},
      "source": [
        "# Base Structures, commands, tips, etc."
      ]
    },
    {
      "cell_type": "markdown",
      "metadata": {
        "id": "CFxCChAKsxbE"
      },
      "source": [
        "## ***Run this part before running any Python code. It needs to be run at least once before anything else!***"
      ]
    },
    {
      "cell_type": "code",
      "execution_count": null,
      "metadata": {
        "id": "pawR3mR9UZeE"
      },
      "outputs": [],
      "source": [
        "%%capture\n",
        "##### install condacolab for loading hoomd package\n",
        "!pip install -q condacolab\n",
        "import condacolab\n",
        "condacolab.install()"
      ]
    },
    {
      "cell_type": "markdown",
      "metadata": {
        "id": "5vvYTLmdr5Lj"
      },
      "source": [
        "DO NOT run all codes at once for your first run. Your kernel will shutdown after `condacolab.install()` anyway. You can restart and run all once you've already initialized and have gone through the installation steps for your current runtime.\n",
        "1. Run `!pip ... condacolab.install()` (1st cell) before anything else. Wait until the kernel restarts automatically after the installation.\n",
        "2. Run `!mamba install ...` (2nd cell) to install HOOMD-blue Molecular Dynamics simulation package and some other useful tools for data processing and visualization.\n",
        "3. Add code cells and start running hoomd codes.\n",
        "\n",
        "NOTE: if you restart your runtime without disconnecting from it, you don't need to repeat steps 1-2."
      ]
    },
    {
      "cell_type": "markdown",
      "metadata": {
        "id": "pfRkqiEOsXf3"
      },
      "source": [
        "--------------------------------------------------------------------------------\n",
        "Install conda for google colab. Because a colab session is wiped every time it's disconnected, you must run this installation process every time you reconnect to a runtime."
      ]
    },
    {
      "cell_type": "code",
      "execution_count": null,
      "metadata": {
        "id": "j_KB6DiESodV"
      },
      "outputs": [],
      "source": [
        "# !conda info\n",
        "# The command above can be used to see the information about the conda system you are working with. \n",
        "# It will display conda version as well as CUDA version if you are on a GPU node. Can be helpful for troubleshooting"
      ]
    },
    {
      "cell_type": "code",
      "execution_count": null,
      "metadata": {
        "id": "5Qa1th0nan6k"
      },
      "outputs": [],
      "source": [
        "%%capture\n",
        "!mamba install -c conda-forge cudatoolkit=11.6 matplotlib gsd numpy freud hoomd=*3.8*\n",
        "\n",
        "'''\n",
        "  NOTE:\n",
        "  if `!mamba install ...` fails,\n",
        "  uncomment and run the previous cell with `!conda info`.\n",
        "  Then, match the `cudatoolkit` and `hoomd` versions\n",
        "  with `__cuda=x.x` and python version `3.x` to the results of `!conda_info`.\n",
        "'''\n",
        "'''\n",
        "  For now, hoomd v3.8 should work fine.\n",
        "  Should it be discontinued in the futuer, the version number should be changed to a supported newer version, which may or may not require additional modification to syntax.\n",
        "'''"
      ]
    },
    {
      "cell_type": "code",
      "execution_count": null,
      "metadata": {},
      "outputs": [],
      "source": [
        "'''\n",
        "    You have an indirect access to the shell of the node you are on by running shell commands with exclamation mark in front. For example, you can copy files within the drive using !cp\n",
        "    Below are some example commands for moving files around the drive. When you first run the commands below and mount your drive, it may ask you to authenticate\n",
        "'''\n",
        "from google.colab import drive\n",
        "drive.mount('/content/gdrive')\n",
        "!mkdir /content/gdrive/MyDrive/Colab\\ Notebooks/tutorial\n",
        "!cp *.gsd /content/gdrive/MyDrive/Colab\\ Notebooks/tutorial/ # move simulation data\n",
        "!cp *.png /content/gdrive/MyDrive/Colab\\ Notebooks/tutorial/ # move plots\n",
        "!cp *.mp4 /content/gdrive/MyDrive/Colab\\ Notebooks/tutorial/ # move the animation\n",
        "!cp *.csv /content/gdrive/MyDrive/Colab\\ Notebooks/tutorial/ # move the csv files\n",
        "\n",
        "'''\n",
        "    the commands above copies the specified files to a google driver folder named \"tutorial\" folder which is in the \"Colab Notebooks\" folder on the G Drive.\n",
        "    At least from my experience, Colab does not like working with files on the google drive.\n",
        "    So, it's better if you copy files over to colab node if needed and only move to G Drive once you are done with working with them.\n",
        "'''\n"
      ]
    }
  ],
  "metadata": {
    "accelerator": "GPU",
    "colab": {
      "provenance": []
    },
    "gpuClass": "standard",
    "kernelspec": {
      "display_name": "Python 3",
      "name": "python3"
    },
    "language_info": {
      "name": "python"
    }
  },
  "nbformat": 4,
  "nbformat_minor": 0
}
